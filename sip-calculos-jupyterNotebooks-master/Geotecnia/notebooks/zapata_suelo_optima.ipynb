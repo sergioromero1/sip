{
 "cells": [
  {
   "cell_type": "code",
   "execution_count": 1,
   "metadata": {},
   "outputs": [],
   "source": [
    "import numpy as np\n",
    "from zapata_suelo import zapata_suelo \n",
    "from openpyxl import Workbook\n",
    "from ipywidgets import interact, interactive, fixed, interact_manual\n",
    "import ipywidgets as widgets"
   ]
  },
  {
   "cell_type": "code",
   "execution_count": 2,
   "metadata": {},
   "outputs": [
    {
     "data": {
      "application/vnd.jupyter.widget-view+json": {
       "model_id": "ac4c1bfa7bab4474b060ba843ea6baa5",
       "version_major": 2,
       "version_minor": 0
      },
      "text/plain": [
       "interactive(children=(FloatSlider(value=70.425, description='Qreq', max=211.27499999999998, min=-70.425), Floa…"
      ]
     },
     "metadata": {},
     "output_type": "display_data"
    },
    {
     "data": {
      "text/plain": [
       "<function zapata_suelo.zapata_suelo(Qreq, Trequ, Freq, TipoMat, Sumergencia, IP, N, Eta_2, Eta_3, Eta_4, Theta, Gm_fund, Gm_rell, Gm_conc, alfa, omega, Df, B, Lpe, AltPedestal, e, FS_cp, FS_arr, FS_cat)>"
      ]
     },
     "execution_count": 2,
     "metadata": {},
     "output_type": "execute_result"
    }
   ],
   "source": [
    "interact(zapata_suelo, Qreq = 70.425, Trequ = 52.832, Freq = 11.4245175390473, TipoMat = \"Granular\", Sumergencia = \"Sumergido\", IP = 10, N = 5, Eta_2 = 0.8, Eta_3 = 0.9, Eta_4 = 1.0, Theta = 0, Gm_fund = 1.7, Gm_rell = 1.6, Gm_conc = 2.4, alfa = 0, omega = 30, Df = 1.5, B = 1, Lpe = 0.6, AltPedestal = 1.25, e = 0.4, FS_cp = 3, FS_arr = 1.5, FS_cat = 1.5)"
   ]
  },
  {
   "cell_type": "code",
   "execution_count": 15,
   "metadata": {},
   "outputs": [],
   "source": [
    "Qreq = 70.425                 # Qreq: Solicitación de carga axial a compresión [Ton-f]\n",
    "Trequ = 52.832                # Trequ: Solicitación de carga axial a tensión [Ton-f]\n",
    "Freq = 11.4245175390473       # Freq: Solicitación de carga lateral [Ton-f]\n",
    "\n",
    "TipoMat = \"Granular\"          # TipoMat: Tipo de material. Puede ser \"Granular\" o \"Cohesivo\"\n",
    "Sumergencia = \"Sumergido\"     # Sumergencia: Condición de saturación. Puede ser \"Sumergido\" o \"No sumergido\"\n",
    "IP = 10                       # IP: Indice de Plasticidad\n",
    "Eta_2 = 0.8                   # Eta_2: Factor por longitud de la varilla (0.75 ≤ Eta_2  ≤ 1)\n",
    "Eta_3 = 0.9                   # Eta_3: Factor por revestimiento interno de tomamuestras (0.8 ≤ Eta_3 ≤ 1)\n",
    "Eta_4 = 1.0                   # Eta_4: Factor por diámetro de la perforación \n",
    "                              #        ( Eta_4 > 1 para Diam. > 5”, y  Eta_4 = 1.15 para Diam. = 8\")\n",
    "Theta = 0                     # Theta: Ángulo de Inclinación de la Carga con la vert. [Grados]\n",
    "Gm_fund = 1.7                 # Gm_fund: Peso unitario del suelo de fundación [Ton/m³]\n",
    "Gm_rell = 1.6                 # Gm_rell: Peso unitario del suelo de relleno [Ton/m³]\n",
    "Gm_conc = 2.4                 # Gm_conc: Peso unitario del concreto reforzado [Ton/m³]\n",
    "alfa = 0                      # alfa: Ángulo de Inclinación de la base. [Grados]\n",
    "omega = 30                    # omega: Ángulo de Inclinación de la Terreno. [Grados]\n",
    "Lpe = 0.6                     # Lpe: Lado del Pedestal [m]\n",
    "AltPedestal = 1.25            # AltPedestal: Altura del pedestal [m]\n",
    "e = 0.4                       # e: Espesor de la zapata [m]\n",
    "FS_cp = 3                     # FS_cp: Factor de seguridad a la capacidad portante\n",
    "FS_arr = 1.5                  # FS_arr: Factor de seguridad al arrancamiento\n",
    "FS_cat = 1.5                  # FS_cat: Factor de seguridad a la carga axial a tensión\n",
    "\n",
    "# N: Número de Golpes (Campo)\n",
    "N_min = 5     \n",
    "N_max = 50     \n",
    "N_delta = 5\n",
    "\n",
    "# B: Ancho de cimentación [m]\n",
    "B_min = 1\n",
    "B_max = 5\n",
    "B_delta = 0.1\n",
    "\n",
    "# Df: Profundidad de cimentación [m]\n",
    "Df_min = 1.5\n",
    "Df_max = 5\n",
    "Df_delta = 0.1\n",
    "\n",
    "resultado = {}\n",
    "resultados = {}\n",
    "for N in range(N_min, N_max + N_delta, N_delta):\n",
    "    for B in np.arange(B_min, B_max + B_delta, B_delta):\n",
    "        Df_opt = None\n",
    "        for Df in np.arange(Df_min, Df_max + Df_delta, Df_delta):\n",
    "            resultado = zapata_suelo(Qreq, Trequ, Freq, TipoMat, Sumergencia, IP, N, Eta_2, Eta_3, Eta_4, Theta, Gm_fund,\\\n",
    "                                           Gm_rell, Gm_conc, alfa, omega, Df, B, Lpe, AltPedestal, e, FS_cp, FS_arr, FS_cat)\n",
    "            if resultado[\"Cumple\"]:\n",
    "                Df_opt = Df\n",
    "                break\n",
    "        if Df_opt:\n",
    "            resultados[N] = ({'B': round(B,1), 'Df': round(Df_opt,1)}, resultado)\n",
    "                \n"
   ]
  },
  {
   "cell_type": "code",
   "execution_count": 16,
   "metadata": {},
   "outputs": [
    {
     "name": "stdout",
     "output_type": "stream",
     "text": [
      "{5: ({'B': 5.0, 'Df': 3.3}, {'N60': 2.7, 'f1': 8.42175, 'Cu': 0, 'Gm_fund_ec': 0.7, 'Gm_rell_ec': 0.6000000000000001, 'Gm_conc_e': 1.4, 'Phi': 24, 'Nq': 9.6033944106974, 'Nc': 19.32354022682835, 'Ng': 9.441870706565368, 'F_sc': 1.4969790368622138, 'F_sq': 1.4452286853085363, 'F_sg': 0.6, 'F_dq': 1.2068483773199583, 'F_dc': 1.2308910246107492, 'F_dg': 1, 'F_iq': 1.0, 'F_ic': 1.0, 'F_ig': 1.0, 'F_tg': 1.0, 'F_tq': 1.0, 'F_tc': 1.0, 'F_gq': 0.17863279495408182, 'F_gc': 0.08316266237191913, 'F_gg': 0.17863279495408182, 'Psi': 15, 'Gm_fund_ea': 1, 'Gm_rell_ea': 1, 'Ka': 0.42173022210258343, 'Kp': 2.3711841067836867, 'Zc': 0.0, 'C1': 2.0007135212272544, 'v': 0.37235737227365645, 'E': 672.782874617737, 'F_rq': 1, 'F_rc': 1.0, 'F_rg': 1, 'Qadm': 2.89423214502487, 'Mest': 241.2500000000006, 'Si': 0.40019838026691235, 'Mvolc': 64.61132062908239, 'Faxc_adm': 72.35580362562186, 'Faxt_adm': 88.70072071591214, 'Flat_adm': 19.008078032609557, 'Sp': 25.4, 'Mest_min': 160.83333333333374, 'Cumple': True}), 10: ({'B': 5.0, 'Df': 2.1}, {'N60': 5.4, 'f1': 8.42175, 'Cu': 0, 'Gm_fund_ec': 0.7, 'Gm_rell_ec': 0.6000000000000001, 'Gm_conc_e': 1.4, 'Phi': 27, 'Nq': 13.199146359992811, 'Nc': 23.942172804316808, 'Ng': 14.46965286302504, 'F_sc': 1.5512927530793275, 'F_sq': 1.5095254494944288, 'F_sg': 0.6, 'F_dq': 1.1275984989238943, 'F_dc': 1.1380581241434387, 'F_dg': 1, 'F_iq': 1.0, 'F_ic': 1.0, 'F_ig': 1.0, 'F_tg': 1.0, 'F_tq': 1.0, 'F_tc': 1.0, 'F_gq': 0.17863279495408182, 'F_gc': 0.11130290310692784, 'F_gg': 0.17863279495408182, 'Psi': 15, 'Gm_fund_ea': 1, 'Gm_rell_ea': 1, 'Ka': 0.3755248059449218, 'Kp': 2.662939928785076, 'Zc': 0.0, 'C1': 3.776049766718489, 'v': 0.3531734443859938, 'E': 978.5932721712538, 'F_rq': 1, 'F_rc': 1.0, 'F_rg': 1, 'Qadm': 2.871182631934121, 'Mest': 166.2500000000004, 'Si': 0.5192790855787822, 'Mvolc': 41.1702464456884, 'Faxc_adm': 71.77956579835313, 'Faxt_adm': 54.73167059918043, 'Flat_adm': 20.64156978691842, 'Sp': 25.4, 'Mest_min': 110.8333333333336, 'Cumple': True}), 15: ({'B': 5.0, 'Df': 2.1}, {'N60': 8.100000000000001, 'f1': 8.42175, 'Cu': 0, 'Gm_fund_ec': 0.7, 'Gm_rell_ec': 0.6000000000000001, 'Gm_conc_e': 1.4, 'Phi': 30, 'Nq': 18.401122218708668, 'Nc': 30.139627791519086, 'Ng': 22.402486271104557, 'F_sc': 1.610529179258362, 'F_sq': 1.5773502691896257, 'F_sg': 0.6, 'F_dq': 1.1212435565298213, 'F_dc': 1.128211127644256, 'F_dg': 1, 'F_iq': 1.0, 'F_ic': 1.0, 'F_ig': 1.0, 'F_tg': 1.0, 'F_tq': 1.0, 'F_tc': 1.0, 'F_gq': 0.17863279495408182, 'F_gc': 0.13143082747621238, 'F_gg': 0.17863279495408182, 'Psi': 15, 'Gm_fund_ea': 1, 'Gm_rell_ea': 1, 'Ka': 0.3333333333333333, 'Kp': 2.9999999999999982, 'Zc': 0.0, 'C1': 3.776049766718489, 'v': 0.3333333333333333, 'E': 1284.4036697247707, 'F_rq': 1, 'F_rc': 1.0, 'F_rg': 1, 'Qadm': 4.249224868782454, 'Mest': 166.2500000000004, 'Si': 0.39564120806002456, 'Mvolc': 40.844633755808466, 'Faxc_adm': 106.2306217195615, 'Faxt_adm': 54.73167059918043, 'Flat_adm': 33.60016892069475, 'Sp': 25.4, 'Mest_min': 110.8333333333336, 'Cumple': True}), 20: ({'B': 5.0, 'Df': 2.1}, {'N60': 10.8, 'f1': 8.42175, 'Cu': 0, 'Gm_fund_ec': 0.7, 'Gm_rell_ec': 0.6000000000000001, 'Gm_conc_e': 1.4, 'Phi': 32, 'Nq': 23.176776207012633, 'Nc': 35.49026070689833, 'Ng': 30.214652959465663, 'F_sc': 1.6530460961789357, 'F_sq': 1.6248693519093274, 'F_sg': 0.6, 'F_dq': 1.1159880956564936, 'F_dc': 1.1212182560086468, 'F_dg': 1, 'F_iq': 1.0, 'F_ic': 1.0, 'F_ig': 1.0, 'F_tg': 1.0, 'F_tq': 1.0, 'F_tc': 1.0, 'F_gq': 0.17863279495408182, 'F_gc': 0.14159552689587823, 'F_gg': 0.17863279495408182, 'Psi': 15, 'Gm_fund_ea': 1, 'Gm_rell_ea': 1, 'Ka': 0.3072585245224685, 'Kp': 3.254588303299862, 'Zc': 0.0, 'C1': 3.776049766718489, 'v': 0.31976525120683297, 'E': 2120.2854230377166, 'F_rq': 1, 'F_rc': 1.0, 'F_rg': 1, 'Qadm': 5.5677134152411805, 'Mest': 166.2500000000004, 'Si': 0.23966727026713022, 'Mvolc': 40.64340141881061, 'Faxc_adm': 139.1928353810297, 'Faxt_adm': 54.73167059918043, 'Flat_adm': 46.80088485133043, 'Sp': 25.4, 'Mest_min': 110.8333333333336, 'Cumple': True}), 25: ({'B': 5.0, 'Df': 2.1}, {'N60': 13.5, 'f1': 8.42175, 'Cu': 0, 'Gm_fund_ec': 0.7, 'Gm_rell_ec': 0.6000000000000001, 'Gm_conc_e': 1.4, 'Phi': 34, 'Nq': 29.439792369643477, 'Nc': 42.16372611983988, 'Ng': 41.06379840847927, 'F_sc': 1.69822558580255, 'F_sq': 1.6745085168424265, 'F_sg': 0.6, 'F_dq': 1.1100940577831349, 'F_dc': 1.1139651851230323, 'F_dg': 1, 'F_iq': 1.0, 'F_ic': 1.0, 'F_ig': 1.0, 'F_tg': 1.0, 'F_tq': 1.0, 'F_tc': 1.0, 'F_gq': 0.17863279495408182, 'F_gc': 0.14975188069246287, 'F_gg': 0.17863279495408182, 'Psi': 15, 'Gm_fund_ea': 1, 'Gm_rell_ea': 1, 'Ka': 0.28271491971777274, 'Kp': 3.537132037454107, 'Zc': 0.0, 'C1': 3.776049766718489, 'v': 0.30594456231587785, 'E': 2731.9062181447503, 'F_rq': 1, 'F_rc': 1.0, 'F_rg': 1, 'Qadm': 7.357409541549332, 'Mest': 166.2500000000004, 'Si': 0.18601041871478766, 'Mvolc': 40.45398614873037, 'Faxc_adm': 183.93523853873356, 'Faxt_adm': 54.73167059918043, 'Flat_adm': 65.6548241941425, 'Sp': 25.4, 'Mest_min': 110.8333333333336, 'Cumple': True}), 30: ({'B': 5.0, 'Df': 2.1}, {'N60': 16.200000000000003, 'f1': 8.42175, 'Cu': 0, 'Gm_fund_ec': 0.7, 'Gm_rell_ec': 0.6000000000000001, 'Gm_conc_e': 1.4, 'Phi': 36, 'Nq': 37.752497171885715, 'Nc': 50.58547263955144, 'Ng': 56.310674523564884, 'F_sc': 1.7463110494369096, 'F_sq': 1.7265425280053608, 'F_sg': 0.6, 'F_dq': 1.1037020585553068, 'F_dc': 1.1065236915472176, 'F_dg': 1, 'F_iq': 1.0, 'F_ic': 1.0, 'F_ig': 1.0, 'F_tg': 1.0, 'F_tq': 1.0, 'F_tc': 1.0, 'F_gq': 0.17863279495408182, 'F_gc': 0.15628418551934026, 'F_gg': 0.17863279495408182, 'Psi': 15, 'Gm_fund_ea': 1, 'Gm_rell_ea': 1, 'Ka': 0.2596161836824997, 'Kp': 3.851839996319182, 'Zc': 0.0, 'C1': 3.776049766718489, 'v': 0.2918923969436535, 'E': 3343.5270132517835, 'F_rq': 1, 'F_rc': 1.0, 'F_rg': 1, 'Qadm': 9.81760336506617, 'Mest': 166.2500000000004, 'Si': 0.1519841226084241, 'Mvolc': 40.275721653378156, 'Faxc_adm': 245.4400841266546, 'Faxt_adm': 54.73167059918043, 'Flat_adm': 92.90946415314818, 'Sp': 25.4, 'Mest_min': 110.8333333333336, 'Cumple': True}), 35: ({'B': 5.0, 'Df': 2.1}, {'N60': 18.9, 'f1': 8.42175, 'Cu': 0, 'Gm_fund_ec': 0.7, 'Gm_rell_ec': 0.6000000000000001, 'Gm_conc_e': 1.4, 'Phi': 37, 'Nq': 42.919911654584354, 'Nc': 55.629601684001244, 'Ng': 66.1920546149379, 'F_sc': 1.7715300910904754, 'F_sq': 1.7535540501027942, 'F_sg': 0.6, 'F_dq': 1.100360643055593, 'F_dc': 1.102754747410644, 'F_dg': 1, 'F_iq': 1.0, 'F_ic': 1.0, 'F_ig': 1.0, 'F_tg': 1.0, 'F_tq': 1.0, 'F_tc': 1.0, 'F_gq': 0.17863279495408182, 'F_gc': 0.15903907033429024, 'F_gg': 0.17863279495408182, 'Psi': 15, 'Gm_fund_ea': 1, 'Gm_rell_ea': 1, 'Ka': 0.2485836198891455, 'Kp': 4.022791205816153, 'Zc': 0.0, 'C1': 3.776049766718489, 'v': 0.28478705138544275, 'E': 3955.147808358817, 'F_rq': 1, 'F_rc': 1.0, 'F_rg': 1, 'Qadm': 11.387294880543843, 'Mest': 166.2500000000004, 'Si': 0.12848142323598735, 'Mvolc': 40.19057784230294, 'Faxc_adm': 284.6823720135965, 'Faxt_adm': 54.73167059918043, 'Flat_adm': 110.94078372875569, 'Sp': 25.4, 'Mest_min': 110.8333333333336, 'Cumple': True}), 40: ({'B': 5.0, 'Df': 2.1}, {'N60': 21.6, 'f1': 8.42175, 'Cu': 0, 'Gm_fund_ec': 0.7, 'Gm_rell_ec': 0.6000000000000001, 'Gm_conc_e': 1.4, 'Phi': 39, 'Nq': 55.95745874448359, 'Nc': 67.86680953395519, 'Ng': 92.24648132529228, 'F_sc': 1.8245187762434434, 'F_sq': 1.809784033195007, 'F_sg': 0.6, 'F_dq': 1.0934643280066036, 'F_dc': 1.0951649948522297, 'F_dg': 1, 'F_iq': 1.0, 'F_ic': 1.0, 'F_ig': 1.0, 'F_tg': 1.0, 'F_tq': 1.0, 'F_tc': 1.0, 'F_gq': 0.17863279495408182, 'F_gc': 0.16368728575823743, 'F_gg': 0.17863279495408182, 'Psi': 15, 'Gm_fund_ea': 1, 'Gm_rell_ea': 1, 'Ka': 0.22750565879269366, 'Kp': 4.395495062877593, 'Zc': 0.0, 'C1': 3.776049766718489, 'v': 0.27043490435673384, 'E': 4566.768603465851, 'F_rq': 1, 'F_rc': 1.0, 'F_rg': 1, 'Qadm': 15.460127832317728, 'Mest': 166.2500000000004, 'Si': 0.11127408976688191, 'Mvolc': 40.02790867754108, 'Faxc_adm': 386.5031958079437, 'Faxt_adm': 54.73167059918043, 'Flat_adm': 159.5436660092586, 'Sp': 25.4, 'Mest_min': 110.8333333333336, 'Cumple': True}), 45: ({'B': 5.0, 'Df': 2.1}, {'N60': 24.3, 'f1': 8.42175, 'Cu': 0, 'Gm_fund_ec': 0.7, 'Gm_rell_ec': 0.6000000000000001, 'Gm_conc_e': 1.4, 'Phi': 40, 'Nq': 64.19520638896577, 'Nc': 75.31311424878253, 'Ng': 109.41054727101564, 'F_sc': 1.8523775311814772, 'F_sq': 1.8390996311772798, 'F_sg': 0.6, 'F_dq': 1.0899385424743582, 'F_dc': 1.091361728624282, 'F_dg': 1, 'F_iq': 1.0, 'F_ic': 1.0, 'F_ig': 1.0, 'F_tg': 1.0, 'F_tq': 1.0, 'F_tc': 1.0, 'F_gq': 0.17863279495408182, 'F_gc': 0.16563549259557045, 'F_gg': 0.17863279495408182, 'Psi': 15, 'Gm_fund_ea': 1, 'Gm_rell_ea': 1, 'Ka': 0.21744283205399903, 'Kp': 4.59890993211339, 'Zc': 0.0, 'C1': 3.776049766718489, 'v': 0.26319564488426106, 'E': 5178.389398572885, 'F_rq': 1, 'F_rc': 1.0, 'F_rg': 1, 'Qadm': 18.103847761990643, 'Mest': 166.2500000000004, 'Si': 0.09813148073929742, 'Mvolc': 39.9502488121852, 'Faxc_adm': 452.5961940497667, 'Faxt_adm': 54.73167059918043, 'Flat_adm': 192.23442848596875, 'Sp': 25.4, 'Mest_min': 110.8333333333336, 'Cumple': True}), 50: ({'B': 5.0, 'Df': 2.1}, {'N60': 27.0, 'f1': 8.42175, 'Cu': 0, 'Gm_fund_ec': 0.7, 'Gm_rell_ec': 0.6000000000000001, 'Gm_conc_e': 1.4, 'Phi': 41, 'Nq': 73.89689142651558, 'Nc': 83.8582808816836, 'Ng': 130.21374884146368, 'F_sc': 1.8812116185732135, 'F_sq': 1.8692867378162266, 'F_sg': 0.6, 'F_dq': 1.086379396608055, 'F_dc': 1.0875643496961456, 'F_dg': 1, 'F_iq': 1.0, 'F_ic': 1.0, 'F_ig': 1.0, 'F_tg': 1.0, 'F_tq': 1.0, 'F_tc': 1.0, 'F_gq': 0.17863279495408182, 'F_gc': 0.1673652746391188, 'F_gg': 0.17863279495408182, 'Psi': 15, 'Gm_fund_ea': 1, 'Gm_rell_ea': 1, 'Ka': 0.20768641998175066, 'Kp': 4.814951310190955, 'Zc': 0.0, 'C1': 3.776049766718489, 'v': 0.25591970066300135, 'E': 5790.010193679918, 'F_rq': 1, 'F_rc': 1.0, 'F_rg': 1, 'Qadm': 21.276483047003342, 'Mest': 166.2500000000004, 'Si': 0.08776547925275192, 'Mvolc': 39.87495370201763, 'Faxc_adm': 531.9120761750843, 'Faxt_adm': 54.73167059918043, 'Flat_adm': 232.43025367790764, 'Sp': 25.4, 'Mest_min': 110.8333333333336, 'Cumple': True})}\n"
     ]
    }
   ],
   "source": [
    "print(resultados)"
   ]
  },
  {
   "cell_type": "code",
   "execution_count": null,
   "metadata": {},
   "outputs": [],
   "source": []
  }
 ],
 "metadata": {
  "kernelspec": {
   "display_name": "Python 3",
   "language": "python",
   "name": "python3"
  },
  "language_info": {
   "codemirror_mode": {
    "name": "ipython",
    "version": 3
   },
   "file_extension": ".py",
   "mimetype": "text/x-python",
   "name": "python",
   "nbconvert_exporter": "python",
   "pygments_lexer": "ipython3",
   "version": "3.7.1"
  }
 },
 "nbformat": 4,
 "nbformat_minor": 2
}
