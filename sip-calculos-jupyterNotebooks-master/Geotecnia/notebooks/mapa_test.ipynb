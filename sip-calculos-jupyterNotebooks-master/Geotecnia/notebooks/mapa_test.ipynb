{
 "cells": [
  {
   "cell_type": "code",
   "execution_count": 7,
   "metadata": {
    "editable": false
   },
   "outputs": [],
   "source": [
    "from ipyleaflet import *"
   ]
  },
  {
   "cell_type": "code",
   "execution_count": 8,
   "metadata": {},
   "outputs": [
    {
     "data": {
      "application/vnd.jupyter.widget-view+json": {
       "model_id": "6a12b1aca0d34968998bbfd733c4b101",
       "version_major": 2,
       "version_minor": 0
      },
      "text/plain": [
       "Box(children=(Dropdown(description='Sumergencia:', options=('Sumergido', 'No sumergido'), value='Sumergido'), …"
      ]
     },
     "metadata": {},
     "output_type": "display_data"
    },
    {
     "data": {
      "application/vnd.jupyter.widget-view+json": {
       "model_id": "ccb1f9f116e64d6daee7ddd1e671ff62",
       "version_major": 2,
       "version_minor": 0
      },
      "text/plain": [
       "DatePicker(value=None, description='Fecha:')"
      ]
     },
     "metadata": {},
     "output_type": "display_data"
    },
    {
     "data": {
      "application/vnd.jupyter.widget-view+json": {
       "model_id": "37a9868715b746b38c5725cf62839a45",
       "version_major": 2,
       "version_minor": 0
      },
      "text/plain": [
       "Button(description='Calcular', icon='go', style=ButtonStyle(), tooltip='Calcular zapata')"
      ]
     },
     "metadata": {},
     "output_type": "display_data"
    }
   ],
   "source": [
    "import ipywidgets\n",
    "\n",
    "boton_widget = ipywidgets.Button(\n",
    "    description='Calcular',\n",
    "    disabled=False,\n",
    "    button_style='', # 'success', 'info', 'warning', 'danger' or ''\n",
    "    tooltip='Calcular zapata',\n",
    "    icon='go'\n",
    ")\n",
    "password_widget = ipywidgets.Password(description='Contraseña:', placeholder='')\n",
    "\n",
    "sumergencia_widget = ipywidgets.Dropdown(\n",
    "    options=['Sumergido', 'No sumergido'],\n",
    "    value='Sumergido',\n",
    "    description='Sumergencia:',\n",
    "    disabled=False,\n",
    ")\n",
    "\n",
    "fecha_widget=ipywidgets.DatePicker(\n",
    "    description='Fecha:',\n",
    "    disabled=False\n",
    ")\n",
    "box_widget = ipywidgets.Box([sumergencia_widget, password_widget])\n",
    "display(box_widget)\n",
    "display(fecha_widget)\n",
    "display(boton_widget)"
   ]
  },
  {
   "cell_type": "code",
   "execution_count": 10,
   "metadata": {},
   "outputs": [
    {
     "data": {
      "text/plain": [
       "'bla'"
      ]
     },
     "execution_count": 10,
     "metadata": {},
     "output_type": "execute_result"
    }
   ],
   "source": [
    "password_widget.value"
   ]
  },
  {
   "cell_type": "code",
   "execution_count": 11,
   "metadata": {},
   "outputs": [],
   "source": [
    "map=Map(center=[4.711, -74.072], zoom=13, scroll_wheel_zoom= True)\n",
    "# map.add_control(DrawControl(circle={'shapeOptions':{'color': '#0000ff'}}, rectangle={'shapeOptions':{'color':'#ff0000'}}))"
   ]
  },
  {
   "cell_type": "code",
   "execution_count": 12,
   "metadata": {},
   "outputs": [
    {
     "data": {
      "application/vnd.jupyter.widget-view+json": {
       "model_id": "faca6e9e04874dbbb9b48ef72443ba04",
       "version_major": 2,
       "version_minor": 0
      },
      "text/plain": [
       "Map(basemap={'url': 'https://{s}.tile.openstreetmap.org/{z}/{x}/{y}.png', 'max_zoom': 19, 'attribution': 'Map …"
      ]
     },
     "metadata": {},
     "output_type": "display_data"
    }
   ],
   "source": [
    "map"
   ]
  },
  {
   "cell_type": "code",
   "execution_count": 8,
   "metadata": {},
   "outputs": [
    {
     "data": {
      "application/vnd.jupyter.widget-view+json": {
       "model_id": "730e3a68c8ac4cc98561a0f8b4a8d6ca",
       "version_major": 2,
       "version_minor": 0
      },
      "text/plain": [
       "Map(basemap={'url': 'https://{s}.tile.openstreetmap.org/{z}/{x}/{y}.png', 'max_zoom': 19, 'attribution': 'Map …"
      ]
     },
     "metadata": {},
     "output_type": "display_data"
    }
   ],
   "source": [
    "m = Map(\n",
    "    layers=(basemap_to_tiles(basemaps.NASAGIBS.ModisTerraTrueColorCR, \"2019-10-08\"), ),\n",
    "    center=(4.711, -74.072),\n",
    "    zoom=4\n",
    ")\n",
    "\n",
    "m"
   ]
  },
  {
   "cell_type": "code",
   "execution_count": null,
   "metadata": {},
   "outputs": [],
   "source": []
  }
 ],
 "metadata": {
  "kernelspec": {
   "display_name": "Python 3",
   "language": "python",
   "name": "python3"
  },
  "language_info": {
   "codemirror_mode": {
    "name": "ipython",
    "version": 3
   },
   "file_extension": ".py",
   "mimetype": "text/x-python",
   "name": "python",
   "nbconvert_exporter": "python",
   "pygments_lexer": "ipython3",
   "version": "3.7.1"
  }
 },
 "nbformat": 4,
 "nbformat_minor": 2
}
